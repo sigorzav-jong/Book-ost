{
 "cells": [
  {
   "cell_type": "code",
   "execution_count": 1,
   "metadata": {
    "id": "UaZY_iNwztBF"
   },
   "outputs": [],
   "source": [
    "import numpy as np # linear algebra\n",
    "import pandas as pd # data processing, CSV file I/O (e.g. pd.read_csv)\n",
    "\n",
    "import nltk\n",
    "from sklearn.feature_extraction.text import CountVectorizer\n",
    "from nltk.corpus import stopwords\n",
    "from wordcloud import WordCloud,STOPWORDS\n",
    "from nltk.stem import WordNetLemmatizer\n",
    "from nltk.tokenize import word_tokenize\n",
    "from nltk.tokenize.toktok import ToktokTokenizer\n",
    "from nltk.stem import LancasterStemmer,WordNetLemmatizer\n",
    "import re, string, unicodedata\n",
    "from string import punctuation"
   ]
  },
  {
   "cell_type": "code",
   "execution_count": 2,
   "metadata": {
    "id": "PPapGekazYfJ"
   },
   "outputs": [],
   "source": [
    "df = pd.read_csv('tweet_data_agumentation.csv').iloc[:,1:]"
   ]
  },
  {
   "cell_type": "code",
   "execution_count": 3,
   "metadata": {
    "colab": {
     "base_uri": "https://localhost:8080/",
     "height": 206
    },
    "id": "GsHEGaHm0e85",
    "outputId": "fc451fd8-c022-45a3-9a62-2446155fe705"
   },
   "outputs": [
    {
     "data": {
      "text/html": [
       "<div>\n",
       "<style scoped>\n",
       "    .dataframe tbody tr th:only-of-type {\n",
       "        vertical-align: middle;\n",
       "    }\n",
       "\n",
       "    .dataframe tbody tr th {\n",
       "        vertical-align: top;\n",
       "    }\n",
       "\n",
       "    .dataframe thead th {\n",
       "        text-align: right;\n",
       "    }\n",
       "</style>\n",
       "<table border=\"1\" class=\"dataframe\">\n",
       "  <thead>\n",
       "    <tr style=\"text-align: right;\">\n",
       "      <th></th>\n",
       "      <th>sentiment</th>\n",
       "      <th>content</th>\n",
       "    </tr>\n",
       "  </thead>\n",
       "  <tbody>\n",
       "    <tr>\n",
       "      <th>0</th>\n",
       "      <td>0</td>\n",
       "      <td>know wa listenin bad habit earlier start freak...</td>\n",
       "    </tr>\n",
       "    <tr>\n",
       "      <th>1</th>\n",
       "      <td>1</td>\n",
       "      <td>layin n bed headach ughhhhwaitin call</td>\n",
       "    </tr>\n",
       "    <tr>\n",
       "      <th>2</th>\n",
       "      <td>1</td>\n",
       "      <td>funer ceremonygloomi friday</td>\n",
       "    </tr>\n",
       "    <tr>\n",
       "      <th>3</th>\n",
       "      <td>2</td>\n",
       "      <td>want hang friend soon</td>\n",
       "    </tr>\n",
       "    <tr>\n",
       "      <th>4</th>\n",
       "      <td>4</td>\n",
       "      <td>reping whi didnt go prom bc bf didnt like friend</td>\n",
       "    </tr>\n",
       "  </tbody>\n",
       "</table>\n",
       "</div>"
      ],
      "text/plain": [
       "   sentiment                                            content\n",
       "0          0  know wa listenin bad habit earlier start freak...\n",
       "1          1              layin n bed headach ughhhhwaitin call\n",
       "2          1                        funer ceremonygloomi friday\n",
       "3          2                              want hang friend soon\n",
       "4          4   reping whi didnt go prom bc bf didnt like friend"
      ]
     },
     "execution_count": 3,
     "metadata": {},
     "output_type": "execute_result"
    }
   ],
   "source": [
    "df.head()"
   ]
  },
  {
   "cell_type": "code",
   "execution_count": 4,
   "metadata": {
    "id": "X8UoHkh4YJYk"
   },
   "outputs": [],
   "source": [
    "sur_index = df[df['sentiment']==5].index"
   ]
  },
  {
   "cell_type": "code",
   "execution_count": 5,
   "metadata": {
    "id": "nkPkEiByYJYk",
    "outputId": "90636aba-888a-4f3b-a1ee-09d218bcac83"
   },
   "outputs": [
    {
     "data": {
      "text/html": [
       "<div>\n",
       "<style scoped>\n",
       "    .dataframe tbody tr th:only-of-type {\n",
       "        vertical-align: middle;\n",
       "    }\n",
       "\n",
       "    .dataframe tbody tr th {\n",
       "        vertical-align: top;\n",
       "    }\n",
       "\n",
       "    .dataframe thead th {\n",
       "        text-align: right;\n",
       "    }\n",
       "</style>\n",
       "<table border=\"1\" class=\"dataframe\">\n",
       "  <thead>\n",
       "    <tr style=\"text-align: right;\">\n",
       "      <th></th>\n",
       "      <th>sentiment</th>\n",
       "      <th>content</th>\n",
       "    </tr>\n",
       "  </thead>\n",
       "  <tbody>\n",
       "    <tr>\n",
       "      <th>0</th>\n",
       "      <td>0</td>\n",
       "      <td>know wa listenin bad habit earlier start freak...</td>\n",
       "    </tr>\n",
       "    <tr>\n",
       "      <th>1</th>\n",
       "      <td>1</td>\n",
       "      <td>layin n bed headach ughhhhwaitin call</td>\n",
       "    </tr>\n",
       "    <tr>\n",
       "      <th>2</th>\n",
       "      <td>1</td>\n",
       "      <td>funer ceremonygloomi friday</td>\n",
       "    </tr>\n",
       "    <tr>\n",
       "      <th>3</th>\n",
       "      <td>2</td>\n",
       "      <td>want hang friend soon</td>\n",
       "    </tr>\n",
       "    <tr>\n",
       "      <th>4</th>\n",
       "      <td>4</td>\n",
       "      <td>reping whi didnt go prom bc bf didnt like friend</td>\n",
       "    </tr>\n",
       "    <tr>\n",
       "      <th>...</th>\n",
       "      <td>...</td>\n",
       "      <td>...</td>\n",
       "    </tr>\n",
       "    <tr>\n",
       "      <th>117780</th>\n",
       "      <td>9</td>\n",
       "      <td>wassup beauti follow peep new singl wwwmyspace...</td>\n",
       "    </tr>\n",
       "    <tr>\n",
       "      <th>117781</th>\n",
       "      <td>9</td>\n",
       "      <td>wassup wat follow peep new hit singl wwwmyspac...</td>\n",
       "    </tr>\n",
       "    <tr>\n",
       "      <th>117782</th>\n",
       "      <td>9</td>\n",
       "      <td>wassup beauti follow peep new hit singl wwwmys...</td>\n",
       "    </tr>\n",
       "    <tr>\n",
       "      <th>117783</th>\n",
       "      <td>6</td>\n",
       "      <td>bullet train gf visit vacationsightse gaijin g...</td>\n",
       "    </tr>\n",
       "    <tr>\n",
       "      <th>117784</th>\n",
       "      <td>6</td>\n",
       "      <td>bullet train gf tokyo visit japan sinc thursda...</td>\n",
       "    </tr>\n",
       "  </tbody>\n",
       "</table>\n",
       "<p>117785 rows × 2 columns</p>\n",
       "</div>"
      ],
      "text/plain": [
       "        sentiment                                            content\n",
       "0               0  know wa listenin bad habit earlier start freak...\n",
       "1               1              layin n bed headach ughhhhwaitin call\n",
       "2               1                        funer ceremonygloomi friday\n",
       "3               2                              want hang friend soon\n",
       "4               4   reping whi didnt go prom bc bf didnt like friend\n",
       "...           ...                                                ...\n",
       "117780          9  wassup beauti follow peep new singl wwwmyspace...\n",
       "117781          9  wassup wat follow peep new hit singl wwwmyspac...\n",
       "117782          9  wassup beauti follow peep new hit singl wwwmys...\n",
       "117783          6  bullet train gf visit vacationsightse gaijin g...\n",
       "117784          6  bullet train gf tokyo visit japan sinc thursda...\n",
       "\n",
       "[117785 rows x 2 columns]"
      ]
     },
     "execution_count": 5,
     "metadata": {},
     "output_type": "execute_result"
    }
   ],
   "source": [
    "df.drop(sur_index,axis=0,inplace=True)\n",
    "df"
   ]
  },
  {
   "cell_type": "code",
   "execution_count": 6,
   "metadata": {
    "id": "f2e1W5haYJYl",
    "outputId": "e07f81fe-62da-4586-9720-0a6468805ee6"
   },
   "outputs": [
    {
     "data": {
      "text/html": [
       "<div>\n",
       "<style scoped>\n",
       "    .dataframe tbody tr th:only-of-type {\n",
       "        vertical-align: middle;\n",
       "    }\n",
       "\n",
       "    .dataframe tbody tr th {\n",
       "        vertical-align: top;\n",
       "    }\n",
       "\n",
       "    .dataframe thead th {\n",
       "        text-align: right;\n",
       "    }\n",
       "</style>\n",
       "<table border=\"1\" class=\"dataframe\">\n",
       "  <thead>\n",
       "    <tr style=\"text-align: right;\">\n",
       "      <th></th>\n",
       "      <th>sentiment</th>\n",
       "      <th>content</th>\n",
       "    </tr>\n",
       "  </thead>\n",
       "  <tbody>\n",
       "    <tr>\n",
       "      <th>0</th>\n",
       "      <td>0</td>\n",
       "      <td>know wa listenin bad habit earlier start freak...</td>\n",
       "    </tr>\n",
       "    <tr>\n",
       "      <th>1</th>\n",
       "      <td>1</td>\n",
       "      <td>layin n bed headach ughhhhwaitin call</td>\n",
       "    </tr>\n",
       "    <tr>\n",
       "      <th>2</th>\n",
       "      <td>1</td>\n",
       "      <td>funer ceremonygloomi friday</td>\n",
       "    </tr>\n",
       "    <tr>\n",
       "      <th>3</th>\n",
       "      <td>2</td>\n",
       "      <td>want hang friend soon</td>\n",
       "    </tr>\n",
       "    <tr>\n",
       "      <th>4</th>\n",
       "      <td>4</td>\n",
       "      <td>reping whi didnt go prom bc bf didnt like friend</td>\n",
       "    </tr>\n",
       "    <tr>\n",
       "      <th>...</th>\n",
       "      <td>...</td>\n",
       "      <td>...</td>\n",
       "    </tr>\n",
       "    <tr>\n",
       "      <th>117780</th>\n",
       "      <td>9</td>\n",
       "      <td>wassup beauti follow peep new singl wwwmyspace...</td>\n",
       "    </tr>\n",
       "    <tr>\n",
       "      <th>117781</th>\n",
       "      <td>9</td>\n",
       "      <td>wassup wat follow peep new hit singl wwwmyspac...</td>\n",
       "    </tr>\n",
       "    <tr>\n",
       "      <th>117782</th>\n",
       "      <td>9</td>\n",
       "      <td>wassup beauti follow peep new hit singl wwwmys...</td>\n",
       "    </tr>\n",
       "    <tr>\n",
       "      <th>117783</th>\n",
       "      <td>6</td>\n",
       "      <td>bullet train gf visit vacationsightse gaijin g...</td>\n",
       "    </tr>\n",
       "    <tr>\n",
       "      <th>117784</th>\n",
       "      <td>6</td>\n",
       "      <td>bullet train gf tokyo visit japan sinc thursda...</td>\n",
       "    </tr>\n",
       "  </tbody>\n",
       "</table>\n",
       "<p>117785 rows × 2 columns</p>\n",
       "</div>"
      ],
      "text/plain": [
       "        sentiment                                            content\n",
       "0               0  know wa listenin bad habit earlier start freak...\n",
       "1               1              layin n bed headach ughhhhwaitin call\n",
       "2               1                        funer ceremonygloomi friday\n",
       "3               2                              want hang friend soon\n",
       "4               4   reping whi didnt go prom bc bf didnt like friend\n",
       "...           ...                                                ...\n",
       "117780          9  wassup beauti follow peep new singl wwwmyspace...\n",
       "117781          9  wassup wat follow peep new hit singl wwwmyspac...\n",
       "117782          9  wassup beauti follow peep new hit singl wwwmys...\n",
       "117783          6  bullet train gf visit vacationsightse gaijin g...\n",
       "117784          6  bullet train gf tokyo visit japan sinc thursda...\n",
       "\n",
       "[117785 rows x 2 columns]"
      ]
     },
     "execution_count": 6,
     "metadata": {},
     "output_type": "execute_result"
    }
   ],
   "source": [
    "df=df.reset_index().iloc[:,1:]\n",
    "df"
   ]
  },
  {
   "cell_type": "code",
   "execution_count": 7,
   "metadata": {
    "id": "24yn5GnHYJYl",
    "outputId": "9b0b28c5-0831-40d1-f6e7-ccbef4270ec2"
   },
   "outputs": [
    {
     "data": {
      "text/plain": [
       "4     34645\n",
       "1     21002\n",
       "9     20859\n",
       "6     14951\n",
       "7      7521\n",
       "11     6124\n",
       "8      5497\n",
       "2      3039\n",
       "0      2954\n",
       "10      738\n",
       "12      455\n",
       "Name: sentiment, dtype: int64"
      ]
     },
     "execution_count": 7,
     "metadata": {},
     "output_type": "execute_result"
    }
   ],
   "source": [
    "df['sentiment'].value_counts()"
   ]
  },
  {
   "cell_type": "code",
   "execution_count": 8,
   "metadata": {
    "id": "DSV_fwyCBYbR"
   },
   "outputs": [],
   "source": [
    "def hapus_url(text):\n",
    "    mention_pattern = r'@[\\w]+'\n",
    "    cleaned_text = re.sub(mention_pattern, '', text)\n",
    "    return re.sub(r'http\\S+','', cleaned_text)\n",
    "    return re.sub(r'http\\S+','', text)\n",
    "def remove_special_characters(text, remove_digits=True):\n",
    "    pattern=r'[^a-zA-Z0-9\\s]'\n",
    "    text=re.sub(pattern,'',text)\n",
    "    return text\n",
    "def stemmer(text):\n",
    "    ps=nltk.porter.PorterStemmer()\n",
    "    text=' '.join([ps.stem(word) for word in text.split()])\n",
    "    return text\n",
    "\n",
    "def final_clean(text):\n",
    "    final_text= []\n",
    "    for i in text.split():\n",
    "        if i.strip().lower() not in sw and i.strip().lower().isalpha():\n",
    "            final_text.append(i.strip().lower())\n",
    "    return \" \".join(final_text)"
   ]
  },
  {
   "cell_type": "code",
   "execution_count": 9,
   "metadata": {
    "id": "stbTTVxBB0Sa"
   },
   "outputs": [],
   "source": [
    "def clean(text):\n",
    "    text = hapus_url(text)\n",
    "    text = remove_special_characters(text, remove_digits=True)\n",
    "    text = stemmer(text)\n",
    "    text = final_clean(text)\n",
    "    return text"
   ]
  },
  {
   "cell_type": "code",
   "execution_count": 10,
   "metadata": {
    "id": "XG7eHdf7YJYm",
    "outputId": "0c22495c-d6bd-439f-c19b-11a221fd9e51"
   },
   "outputs": [
    {
     "data": {
      "text/plain": [
       "(117785, 2)"
      ]
     },
     "execution_count": 10,
     "metadata": {},
     "output_type": "execute_result"
    }
   ],
   "source": [
    "df.shape"
   ]
  },
  {
   "cell_type": "markdown",
   "metadata": {
    "id": "ekWiORtPCDpz"
   },
   "source": [
    "# Training"
   ]
  },
  {
   "cell_type": "code",
   "execution_count": 11,
   "metadata": {
    "id": "3QXpI3n4CA_C"
   },
   "outputs": [],
   "source": [
    "from sklearn.feature_extraction.text import TfidfVectorizer\n",
    "tfidf_vect = TfidfVectorizer()\n",
    "\n",
    "text1 = tfidf_vect.fit_transform(df[\"content\"])"
   ]
  },
  {
   "cell_type": "code",
   "execution_count": 12,
   "metadata": {
    "id": "6rVW-Z4TCIa3"
   },
   "outputs": [
    {
     "data": {
      "text/plain": [
       "0         0\n",
       "1         1\n",
       "2         1\n",
       "3         2\n",
       "4         4\n",
       "         ..\n",
       "117780    9\n",
       "117781    9\n",
       "117782    9\n",
       "117783    6\n",
       "117784    6\n",
       "Name: sentiment, Length: 117785, dtype: int64"
      ]
     },
     "execution_count": 12,
     "metadata": {},
     "output_type": "execute_result"
    }
   ],
   "source": [
    "y = df[\"sentiment\"]\n",
    "y"
   ]
  },
  {
   "cell_type": "code",
   "execution_count": 13,
   "metadata": {},
   "outputs": [],
   "source": [
    "text1_arr = text1.toarray()\n",
    "a = pd.DataFrame(text1_arr, columns=tfidf_vect.get_feature_names_out())"
   ]
  },
  {
   "cell_type": "code",
   "execution_count": 25,
   "metadata": {},
   "outputs": [
    {
     "data": {
      "text/html": [
       "<div>\n",
       "<style scoped>\n",
       "    .dataframe tbody tr th:only-of-type {\n",
       "        vertical-align: middle;\n",
       "    }\n",
       "\n",
       "    .dataframe tbody tr th {\n",
       "        vertical-align: top;\n",
       "    }\n",
       "\n",
       "    .dataframe thead th {\n",
       "        text-align: right;\n",
       "    }\n",
       "</style>\n",
       "<table border=\"1\" class=\"dataframe\">\n",
       "  <thead>\n",
       "    <tr style=\"text-align: right;\">\n",
       "      <th></th>\n",
       "      <th>accountgt</th>\n",
       "      <th>accountquot</th>\n",
       "      <th>accountsand</th>\n",
       "      <th>acct</th>\n",
       "      <th>accumul</th>\n",
       "      <th>accus</th>\n",
       "      <th>accustom</th>\n",
       "      <th>acdc</th>\n",
       "      <th>ace</th>\n",
       "      <th>acen</th>\n",
       "      <th>acess</th>\n",
       "      <th>acet</th>\n",
       "      <th>ach</th>\n",
       "      <th>achebut</th>\n",
       "      <th>achi</th>\n",
       "      <th>achiev</th>\n",
       "      <th>acho</th>\n",
       "      <th>achvstak</th>\n",
       "      <th>acid</th>\n",
       "      <th>acident</th>\n",
       "    </tr>\n",
       "  </thead>\n",
       "  <tbody>\n",
       "    <tr>\n",
       "      <th>0</th>\n",
       "      <td>0.0</td>\n",
       "      <td>0.0</td>\n",
       "      <td>0.0</td>\n",
       "      <td>0.0</td>\n",
       "      <td>0.0</td>\n",
       "      <td>0.0</td>\n",
       "      <td>0.0</td>\n",
       "      <td>0.0</td>\n",
       "      <td>0.0</td>\n",
       "      <td>0.0</td>\n",
       "      <td>0.0</td>\n",
       "      <td>0.0</td>\n",
       "      <td>0.0</td>\n",
       "      <td>0.0</td>\n",
       "      <td>0.0</td>\n",
       "      <td>0.0</td>\n",
       "      <td>0.0</td>\n",
       "      <td>0.0</td>\n",
       "      <td>0.0</td>\n",
       "      <td>0.0</td>\n",
       "    </tr>\n",
       "    <tr>\n",
       "      <th>1</th>\n",
       "      <td>0.0</td>\n",
       "      <td>0.0</td>\n",
       "      <td>0.0</td>\n",
       "      <td>0.0</td>\n",
       "      <td>0.0</td>\n",
       "      <td>0.0</td>\n",
       "      <td>0.0</td>\n",
       "      <td>0.0</td>\n",
       "      <td>0.0</td>\n",
       "      <td>0.0</td>\n",
       "      <td>0.0</td>\n",
       "      <td>0.0</td>\n",
       "      <td>0.0</td>\n",
       "      <td>0.0</td>\n",
       "      <td>0.0</td>\n",
       "      <td>0.0</td>\n",
       "      <td>0.0</td>\n",
       "      <td>0.0</td>\n",
       "      <td>0.0</td>\n",
       "      <td>0.0</td>\n",
       "    </tr>\n",
       "    <tr>\n",
       "      <th>2</th>\n",
       "      <td>0.0</td>\n",
       "      <td>0.0</td>\n",
       "      <td>0.0</td>\n",
       "      <td>0.0</td>\n",
       "      <td>0.0</td>\n",
       "      <td>0.0</td>\n",
       "      <td>0.0</td>\n",
       "      <td>0.0</td>\n",
       "      <td>0.0</td>\n",
       "      <td>0.0</td>\n",
       "      <td>0.0</td>\n",
       "      <td>0.0</td>\n",
       "      <td>0.0</td>\n",
       "      <td>0.0</td>\n",
       "      <td>0.0</td>\n",
       "      <td>0.0</td>\n",
       "      <td>0.0</td>\n",
       "      <td>0.0</td>\n",
       "      <td>0.0</td>\n",
       "      <td>0.0</td>\n",
       "    </tr>\n",
       "    <tr>\n",
       "      <th>3</th>\n",
       "      <td>0.0</td>\n",
       "      <td>0.0</td>\n",
       "      <td>0.0</td>\n",
       "      <td>0.0</td>\n",
       "      <td>0.0</td>\n",
       "      <td>0.0</td>\n",
       "      <td>0.0</td>\n",
       "      <td>0.0</td>\n",
       "      <td>0.0</td>\n",
       "      <td>0.0</td>\n",
       "      <td>0.0</td>\n",
       "      <td>0.0</td>\n",
       "      <td>0.0</td>\n",
       "      <td>0.0</td>\n",
       "      <td>0.0</td>\n",
       "      <td>0.0</td>\n",
       "      <td>0.0</td>\n",
       "      <td>0.0</td>\n",
       "      <td>0.0</td>\n",
       "      <td>0.0</td>\n",
       "    </tr>\n",
       "    <tr>\n",
       "      <th>4</th>\n",
       "      <td>0.0</td>\n",
       "      <td>0.0</td>\n",
       "      <td>0.0</td>\n",
       "      <td>0.0</td>\n",
       "      <td>0.0</td>\n",
       "      <td>0.0</td>\n",
       "      <td>0.0</td>\n",
       "      <td>0.0</td>\n",
       "      <td>0.0</td>\n",
       "      <td>0.0</td>\n",
       "      <td>0.0</td>\n",
       "      <td>0.0</td>\n",
       "      <td>0.0</td>\n",
       "      <td>0.0</td>\n",
       "      <td>0.0</td>\n",
       "      <td>0.0</td>\n",
       "      <td>0.0</td>\n",
       "      <td>0.0</td>\n",
       "      <td>0.0</td>\n",
       "      <td>0.0</td>\n",
       "    </tr>\n",
       "    <tr>\n",
       "      <th>...</th>\n",
       "      <td>...</td>\n",
       "      <td>...</td>\n",
       "      <td>...</td>\n",
       "      <td>...</td>\n",
       "      <td>...</td>\n",
       "      <td>...</td>\n",
       "      <td>...</td>\n",
       "      <td>...</td>\n",
       "      <td>...</td>\n",
       "      <td>...</td>\n",
       "      <td>...</td>\n",
       "      <td>...</td>\n",
       "      <td>...</td>\n",
       "      <td>...</td>\n",
       "      <td>...</td>\n",
       "      <td>...</td>\n",
       "      <td>...</td>\n",
       "      <td>...</td>\n",
       "      <td>...</td>\n",
       "      <td>...</td>\n",
       "    </tr>\n",
       "    <tr>\n",
       "      <th>117780</th>\n",
       "      <td>0.0</td>\n",
       "      <td>0.0</td>\n",
       "      <td>0.0</td>\n",
       "      <td>0.0</td>\n",
       "      <td>0.0</td>\n",
       "      <td>0.0</td>\n",
       "      <td>0.0</td>\n",
       "      <td>0.0</td>\n",
       "      <td>0.0</td>\n",
       "      <td>0.0</td>\n",
       "      <td>0.0</td>\n",
       "      <td>0.0</td>\n",
       "      <td>0.0</td>\n",
       "      <td>0.0</td>\n",
       "      <td>0.0</td>\n",
       "      <td>0.0</td>\n",
       "      <td>0.0</td>\n",
       "      <td>0.0</td>\n",
       "      <td>0.0</td>\n",
       "      <td>0.0</td>\n",
       "    </tr>\n",
       "    <tr>\n",
       "      <th>117781</th>\n",
       "      <td>0.0</td>\n",
       "      <td>0.0</td>\n",
       "      <td>0.0</td>\n",
       "      <td>0.0</td>\n",
       "      <td>0.0</td>\n",
       "      <td>0.0</td>\n",
       "      <td>0.0</td>\n",
       "      <td>0.0</td>\n",
       "      <td>0.0</td>\n",
       "      <td>0.0</td>\n",
       "      <td>0.0</td>\n",
       "      <td>0.0</td>\n",
       "      <td>0.0</td>\n",
       "      <td>0.0</td>\n",
       "      <td>0.0</td>\n",
       "      <td>0.0</td>\n",
       "      <td>0.0</td>\n",
       "      <td>0.0</td>\n",
       "      <td>0.0</td>\n",
       "      <td>0.0</td>\n",
       "    </tr>\n",
       "    <tr>\n",
       "      <th>117782</th>\n",
       "      <td>0.0</td>\n",
       "      <td>0.0</td>\n",
       "      <td>0.0</td>\n",
       "      <td>0.0</td>\n",
       "      <td>0.0</td>\n",
       "      <td>0.0</td>\n",
       "      <td>0.0</td>\n",
       "      <td>0.0</td>\n",
       "      <td>0.0</td>\n",
       "      <td>0.0</td>\n",
       "      <td>0.0</td>\n",
       "      <td>0.0</td>\n",
       "      <td>0.0</td>\n",
       "      <td>0.0</td>\n",
       "      <td>0.0</td>\n",
       "      <td>0.0</td>\n",
       "      <td>0.0</td>\n",
       "      <td>0.0</td>\n",
       "      <td>0.0</td>\n",
       "      <td>0.0</td>\n",
       "    </tr>\n",
       "    <tr>\n",
       "      <th>117783</th>\n",
       "      <td>0.0</td>\n",
       "      <td>0.0</td>\n",
       "      <td>0.0</td>\n",
       "      <td>0.0</td>\n",
       "      <td>0.0</td>\n",
       "      <td>0.0</td>\n",
       "      <td>0.0</td>\n",
       "      <td>0.0</td>\n",
       "      <td>0.0</td>\n",
       "      <td>0.0</td>\n",
       "      <td>0.0</td>\n",
       "      <td>0.0</td>\n",
       "      <td>0.0</td>\n",
       "      <td>0.0</td>\n",
       "      <td>0.0</td>\n",
       "      <td>0.0</td>\n",
       "      <td>0.0</td>\n",
       "      <td>0.0</td>\n",
       "      <td>0.0</td>\n",
       "      <td>0.0</td>\n",
       "    </tr>\n",
       "    <tr>\n",
       "      <th>117784</th>\n",
       "      <td>0.0</td>\n",
       "      <td>0.0</td>\n",
       "      <td>0.0</td>\n",
       "      <td>0.0</td>\n",
       "      <td>0.0</td>\n",
       "      <td>0.0</td>\n",
       "      <td>0.0</td>\n",
       "      <td>0.0</td>\n",
       "      <td>0.0</td>\n",
       "      <td>0.0</td>\n",
       "      <td>0.0</td>\n",
       "      <td>0.0</td>\n",
       "      <td>0.0</td>\n",
       "      <td>0.0</td>\n",
       "      <td>0.0</td>\n",
       "      <td>0.0</td>\n",
       "      <td>0.0</td>\n",
       "      <td>0.0</td>\n",
       "      <td>0.0</td>\n",
       "      <td>0.0</td>\n",
       "    </tr>\n",
       "  </tbody>\n",
       "</table>\n",
       "<p>117785 rows × 20 columns</p>\n",
       "</div>"
      ],
      "text/plain": [
       "        accountgt  accountquot  accountsand  acct  accumul  accus  accustom  \\\n",
       "0             0.0          0.0          0.0   0.0      0.0    0.0       0.0   \n",
       "1             0.0          0.0          0.0   0.0      0.0    0.0       0.0   \n",
       "2             0.0          0.0          0.0   0.0      0.0    0.0       0.0   \n",
       "3             0.0          0.0          0.0   0.0      0.0    0.0       0.0   \n",
       "4             0.0          0.0          0.0   0.0      0.0    0.0       0.0   \n",
       "...           ...          ...          ...   ...      ...    ...       ...   \n",
       "117780        0.0          0.0          0.0   0.0      0.0    0.0       0.0   \n",
       "117781        0.0          0.0          0.0   0.0      0.0    0.0       0.0   \n",
       "117782        0.0          0.0          0.0   0.0      0.0    0.0       0.0   \n",
       "117783        0.0          0.0          0.0   0.0      0.0    0.0       0.0   \n",
       "117784        0.0          0.0          0.0   0.0      0.0    0.0       0.0   \n",
       "\n",
       "        acdc  ace  acen  acess  acet  ach  achebut  achi  achiev  acho  \\\n",
       "0        0.0  0.0   0.0    0.0   0.0  0.0      0.0   0.0     0.0   0.0   \n",
       "1        0.0  0.0   0.0    0.0   0.0  0.0      0.0   0.0     0.0   0.0   \n",
       "2        0.0  0.0   0.0    0.0   0.0  0.0      0.0   0.0     0.0   0.0   \n",
       "3        0.0  0.0   0.0    0.0   0.0  0.0      0.0   0.0     0.0   0.0   \n",
       "4        0.0  0.0   0.0    0.0   0.0  0.0      0.0   0.0     0.0   0.0   \n",
       "...      ...  ...   ...    ...   ...  ...      ...   ...     ...   ...   \n",
       "117780   0.0  0.0   0.0    0.0   0.0  0.0      0.0   0.0     0.0   0.0   \n",
       "117781   0.0  0.0   0.0    0.0   0.0  0.0      0.0   0.0     0.0   0.0   \n",
       "117782   0.0  0.0   0.0    0.0   0.0  0.0      0.0   0.0     0.0   0.0   \n",
       "117783   0.0  0.0   0.0    0.0   0.0  0.0      0.0   0.0     0.0   0.0   \n",
       "117784   0.0  0.0   0.0    0.0   0.0  0.0      0.0   0.0     0.0   0.0   \n",
       "\n",
       "        achvstak  acid  acident  \n",
       "0            0.0   0.0      0.0  \n",
       "1            0.0   0.0      0.0  \n",
       "2            0.0   0.0      0.0  \n",
       "3            0.0   0.0      0.0  \n",
       "4            0.0   0.0      0.0  \n",
       "...          ...   ...      ...  \n",
       "117780       0.0   0.0      0.0  \n",
       "117781       0.0   0.0      0.0  \n",
       "117782       0.0   0.0      0.0  \n",
       "117783       0.0   0.0      0.0  \n",
       "117784       0.0   0.0      0.0  \n",
       "\n",
       "[117785 rows x 20 columns]"
      ]
     },
     "execution_count": 25,
     "metadata": {},
     "output_type": "execute_result"
    }
   ],
   "source": [
    "a.iloc[:, 130:150]"
   ]
  },
  {
   "cell_type": "code",
   "execution_count": 13,
   "metadata": {
    "id": "0yfK-4arB9Jn"
   },
   "outputs": [],
   "source": [
    "from sklearn.model_selection import train_test_split\n",
    "\n",
    "X_train, X_test,y_train,y_test = train_test_split(text1, y, test_size=0.3, random_state=123)"
   ]
  },
  {
   "cell_type": "code",
   "execution_count": 14,
   "metadata": {
    "colab": {
     "base_uri": "https://localhost:8080/"
    },
    "id": "MO0m8OBqCNtb",
    "outputId": "11654b5f-0b6d-4b5f-94ec-7b5f2fa7907a"
   },
   "outputs": [
    {
     "name": "stdout",
     "output_type": "stream",
     "text": [
      "(82449, 22599)\n"
     ]
    }
   ],
   "source": [
    "from sklearn.svm import SVC\n",
    "from sklearn.metrics import classification_report\n",
    "print(X_train.shape)"
   ]
  },
  {
   "cell_type": "code",
   "execution_count": null,
   "metadata": {
    "colab": {
     "base_uri": "https://localhost:8080/",
     "height": 75
    },
    "id": "Xl9h60QmCRj0",
    "outputId": "78c83e5a-f197-4d1e-e003-a0339869a3f4"
   },
   "outputs": [],
   "source": [
    "model = SVC()\n",
    "model.probability=True\n",
    "model.fit(X_train,y_train)"
   ]
  },
  {
   "cell_type": "code",
   "execution_count": null,
   "metadata": {
    "colab": {
     "base_uri": "https://localhost:8080/"
    },
    "id": "nzfyobHnCTSI",
    "outputId": "4bbded62-605c-47b1-f168-451857653928"
   },
   "outputs": [
    {
     "name": "stdout",
     "output_type": "stream",
     "text": [
      "              precision    recall  f1-score   support\n",
      "\n",
      "           0       0.73      0.98      0.84       654\n",
      "           1       0.92      0.94      0.93      6194\n",
      "           2       0.75      0.99      0.85       675\n",
      "           4       0.97      0.86      0.91     11581\n",
      "           6       0.91      0.93      0.92      4362\n",
      "           7       0.86      0.98      0.92      1993\n",
      "           8       0.85      0.97      0.90      1487\n",
      "           9       0.94      0.90      0.92      6549\n",
      "          10       0.71      0.98      0.82       169\n",
      "          11       0.83      0.97      0.89      1574\n",
      "          12       0.67      1.00      0.80        98\n",
      "\n",
      "    accuracy                           0.91     35336\n",
      "   macro avg       0.83      0.95      0.88     35336\n",
      "weighted avg       0.92      0.91      0.91     35336\n",
      "\n"
     ]
    }
   ],
   "source": [
    "pred_svm = model.predict(X_test)\n",
    "print(classification_report(pred_svm, y_test))"
   ]
  },
  {
   "cell_type": "code",
   "execution_count": null,
   "metadata": {
    "colab": {
     "base_uri": "https://localhost:8080/"
    },
    "id": "8qfH6K6rHj_c",
    "outputId": "eabd26be-b9da-48ef-d41f-5857f28c8735"
   },
   "outputs": [
    {
     "data": {
      "text/plain": [
       "array([4, 4, 8, ..., 6, 8, 6])"
      ]
     },
     "execution_count": 17,
     "metadata": {},
     "output_type": "execute_result"
    }
   ],
   "source": [
    "pred_svm"
   ]
  },
  {
   "cell_type": "code",
   "execution_count": null,
   "metadata": {
    "colab": {
     "base_uri": "https://localhost:8080/"
    },
    "id": "de2GLaUNIVWy",
    "outputId": "0f610e1f-6e88-44df-c2c9-35688c7a484b"
   },
   "outputs": [
    {
     "data": {
      "text/plain": [
       "13164     4\n",
       "70954     4\n",
       "42812     8\n",
       "62776     4\n",
       "80163     4\n",
       "         ..\n",
       "114271    9\n",
       "115138    6\n",
       "112086    6\n",
       "46004     8\n",
       "100457    6\n",
       "Name: sentiment, Length: 35336, dtype: int64"
      ]
     },
     "execution_count": 18,
     "metadata": {},
     "output_type": "execute_result"
    }
   ],
   "source": [
    "y_test"
   ]
  },
  {
   "cell_type": "code",
   "execution_count": null,
   "metadata": {
    "colab": {
     "base_uri": "https://localhost:8080/"
    },
    "id": "68rVTyWRIWjQ",
    "outputId": "31d0689c-b4ee-46d5-b248-b851d2a0fe88"
   },
   "outputs": [
    {
     "data": {
      "text/plain": [
       "<12000x41297 sparse matrix of type '<class 'numpy.float64'>'\n",
       "\twith 89619 stored elements in Compressed Sparse Row format>"
      ]
     },
     "execution_count": 80,
     "metadata": {},
     "output_type": "execute_result"
    }
   ],
   "source": [
    "X_test"
   ]
  },
  {
   "cell_type": "code",
   "execution_count": null,
   "metadata": {
    "colab": {
     "base_uri": "https://localhost:8080/"
    },
    "id": "RJwt7PeBJT7D",
    "outputId": "b074e0a1-22bf-4da0-e21f-d380f5bc6d57"
   },
   "outputs": [
    {
     "data": {
      "text/plain": [
       "0        tiffanylu know wa listenin bad habit earlier s...\n",
       "1                    layin n bed headach ughhhhwaitin call\n",
       "2                              funer ceremonygloomi friday\n",
       "3                                    want hang friend soon\n",
       "4        dannycastillo want trade someon ha houston tic...\n",
       "                               ...                        \n",
       "39995                                      johnlloydtaylor\n",
       "39996                                happi mother day love\n",
       "39997    happi mother day mommi woman man long momma so...\n",
       "39998    niariley wassup beauti follow peep new hit sin...\n",
       "39999    mopedronin bullet train tokyo gf visit japan s...\n",
       "Name: content, Length: 40000, dtype: object"
      ]
     },
     "execution_count": 81,
     "metadata": {},
     "output_type": "execute_result"
    }
   ],
   "source": [
    "df['content']"
   ]
  },
  {
   "cell_type": "code",
   "execution_count": null,
   "metadata": {
    "id": "ECtGP-jUJo3m"
   },
   "outputs": [],
   "source": [
    "data = pd.DataFrame(['i am very happy','i am so sad','mother died today. or maybe it was yesterday, i do not know'])\n",
    "data.columns = ['text']"
   ]
  },
  {
   "cell_type": "code",
   "execution_count": null,
   "metadata": {
    "colab": {
     "base_uri": "https://localhost:8080/",
     "height": 143
    },
    "id": "JY-0iUaiKhEM",
    "outputId": "9e82b167-4cce-4e92-a5ed-5f7d0546cc21"
   },
   "outputs": [
    {
     "data": {
      "text/html": [
       "<div>\n",
       "<style scoped>\n",
       "    .dataframe tbody tr th:only-of-type {\n",
       "        vertical-align: middle;\n",
       "    }\n",
       "\n",
       "    .dataframe tbody tr th {\n",
       "        vertical-align: top;\n",
       "    }\n",
       "\n",
       "    .dataframe thead th {\n",
       "        text-align: right;\n",
       "    }\n",
       "</style>\n",
       "<table border=\"1\" class=\"dataframe\">\n",
       "  <thead>\n",
       "    <tr style=\"text-align: right;\">\n",
       "      <th></th>\n",
       "      <th>text</th>\n",
       "    </tr>\n",
       "  </thead>\n",
       "  <tbody>\n",
       "    <tr>\n",
       "      <th>0</th>\n",
       "      <td>i am very happy</td>\n",
       "    </tr>\n",
       "    <tr>\n",
       "      <th>1</th>\n",
       "      <td>i am so sad</td>\n",
       "    </tr>\n",
       "    <tr>\n",
       "      <th>2</th>\n",
       "      <td>mother died today. or maybe it was yesterday, ...</td>\n",
       "    </tr>\n",
       "  </tbody>\n",
       "</table>\n",
       "</div>"
      ],
      "text/plain": [
       "                                                text\n",
       "0                                    i am very happy\n",
       "1                                        i am so sad\n",
       "2  mother died today. or maybe it was yesterday, ..."
      ]
     },
     "execution_count": 20,
     "metadata": {},
     "output_type": "execute_result"
    }
   ],
   "source": [
    "data"
   ]
  },
  {
   "cell_type": "code",
   "execution_count": null,
   "metadata": {
    "colab": {
     "base_uri": "https://localhost:8080/"
    },
    "id": "Z2377VGtKqiG",
    "outputId": "4285d84d-c893-4d56-8e15-6470fcc56cc9"
   },
   "outputs": [
    {
     "data": {
      "text/plain": [
       "<3x22599 sparse matrix of type '<class 'numpy.float64'>'\n",
       "\twith 6 stored elements in Compressed Sparse Row format>"
      ]
     },
     "execution_count": 21,
     "metadata": {},
     "output_type": "execute_result"
    }
   ],
   "source": [
    "text2 = tfidf_vect.transform(data[\"text\"])\n",
    "text2"
   ]
  },
  {
   "cell_type": "code",
   "execution_count": null,
   "metadata": {
    "id": "XkRbDwKPKx_3"
   },
   "outputs": [],
   "source": [
    "pred = model.predict_proba(text2)"
   ]
  },
  {
   "cell_type": "code",
   "execution_count": null,
   "metadata": {
    "colab": {
     "base_uri": "https://localhost:8080/"
    },
    "id": "-nIzQ9KyK92v",
    "outputId": "15bd4ad0-de5b-4e08-b8f7-2ea265ce2d2e"
   },
   "outputs": [
    {
     "data": {
      "text/plain": [
       "array([0.00732766, 0.45392701, 0.00389544, 0.16278967, 0.20700936,\n",
       "       0.01276102, 0.08639178, 0.05660119, 0.00079312, 0.00754964,\n",
       "       0.00095411])"
      ]
     },
     "execution_count": 25,
     "metadata": {},
     "output_type": "execute_result"
    }
   ],
   "source": [
    "pred[0]"
   ]
  },
  {
   "cell_type": "code",
   "execution_count": null,
   "metadata": {
    "colab": {
     "base_uri": "https://localhost:8080/"
    },
    "id": "yyzoqUNtLPhD",
    "outputId": "ec59f8f8-9069-4d2f-e9dd-7f31428a956c"
   },
   "outputs": [
    {
     "data": {
      "text/plain": [
       "0         0\n",
       "1         1\n",
       "2         1\n",
       "3         2\n",
       "4         4\n",
       "         ..\n",
       "117780    9\n",
       "117781    9\n",
       "117782    9\n",
       "117783    6\n",
       "117784    6\n",
       "Name: sentiment, Length: 117785, dtype: int64"
      ]
     },
     "execution_count": 26,
     "metadata": {},
     "output_type": "execute_result"
    }
   ],
   "source": [
    "y"
   ]
  },
  {
   "cell_type": "code",
   "execution_count": null,
   "metadata": {
    "id": "UTTQxBgbMuqr"
   },
   "outputs": [],
   "source": [
    "import pickle\n",
    "import joblib"
   ]
  },
  {
   "cell_type": "code",
   "execution_count": null,
   "metadata": {
    "id": "gWhdOs5iOaRY"
   },
   "outputs": [],
   "source": [
    "saved_model = pickle.dumps(model)"
   ]
  },
  {
   "cell_type": "code",
   "execution_count": null,
   "metadata": {
    "id": "X-kiBelPbgO1"
   },
   "outputs": [],
   "source": [
    "model_from_pickle = pickle.loads(saved_model)"
   ]
  },
  {
   "cell_type": "code",
   "execution_count": null,
   "metadata": {
    "colab": {
     "base_uri": "https://localhost:8080/"
    },
    "id": "BmSSEyQ5bhJu",
    "outputId": "8151d3d8-d607-4e68-cb12-ba733aaec497"
   },
   "outputs": [
    {
     "data": {
      "text/plain": [
       "array([3, 3, 4, ..., 4, 9, 3])"
      ]
     },
     "execution_count": 97,
     "metadata": {},
     "output_type": "execute_result"
    }
   ],
   "source": [
    "model_from_pickle.predict(X_test)"
   ]
  },
  {
   "cell_type": "code",
   "execution_count": null,
   "metadata": {
    "colab": {
     "base_uri": "https://localhost:8080/"
    },
    "id": "0W0sIQNuN-gI",
    "outputId": "933dab70-4678-4e31-c6a4-1ecacde5a421"
   },
   "outputs": [
    {
     "data": {
      "text/plain": [
       "['SVM.pkl']"
      ]
     },
     "execution_count": 28,
     "metadata": {},
     "output_type": "execute_result"
    }
   ],
   "source": [
    "joblib.dump(model, 'SVM.pkl')"
   ]
  },
  {
   "cell_type": "code",
   "execution_count": null,
   "metadata": {
    "id": "4ZYM9XltN3zV"
   },
   "outputs": [],
   "source": [
    "clf_from_joblib = joblib.load('SVM.pkl')"
   ]
  }
 ],
 "metadata": {
  "accelerator": "GPU",
  "colab": {
   "gpuType": "T4",
   "provenance": []
  },
  "kernelspec": {
   "display_name": "Python 3 (ipykernel)",
   "language": "python",
   "name": "python3"
  },
  "language_info": {
   "codemirror_mode": {
    "name": "ipython",
    "version": 3
   },
   "file_extension": ".py",
   "mimetype": "text/x-python",
   "name": "python",
   "nbconvert_exporter": "python",
   "pygments_lexer": "ipython3",
   "version": "3.11.4"
  }
 },
 "nbformat": 4,
 "nbformat_minor": 1
}
